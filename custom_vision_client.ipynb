{
 "cells": [
  {
   "cell_type": "markdown",
   "metadata": {
    "collapsed": true
   },
   "source": [
    "How to use the Prediction API\n",
    "===============\n",
    "\n",
    "If you have an image URL:\n",
    "--------------------------\n",
    "https://southcentralus.api.cognitive.microsoft.com/customvision/v1.0/Prediction/3cb86d65-c6ce-4d5e-a19c-058401e20252/url\n",
    "* Set Prediction-Key Header to : 587a2aff4b81410190bfa872ea17c34f\n",
    "* Set Content-Type Header to : application/json\n",
    "* Set Body to : {\"Url\": \"< image url >\"}\n",
    "    \n",
    "If you have an image file:\n",
    "----------------------\n",
    "https://southcentralus.api.cognitive.microsoft.com/customvision/v1.0/Prediction/3cb86d65-c6ce-4d5e-a19c-058401e20252/image\n",
    "* Set Prediction-Key Header to : 587a2aff4b81410190bfa872ea17c34f\n",
    "* Set Content-Type Header to : application/octet-stream\n",
    "* Set Body to : < image file >"
   ]
  },
  {
   "cell_type": "markdown",
   "metadata": {},
   "source": [
    "Importing required libraries and specify our custom vision service url and prediction key"
   ]
  },
  {
   "cell_type": "code",
   "execution_count": 67,
   "metadata": {},
   "outputs": [],
   "source": [
    "import requests\n",
    "import json\n",
    "\n",
    "service_url = \"https://southcentralus.api.cognitive.microsoft.com/customvision/v1.0/Prediction/3cb86d65-c6ce-4d5e-a19c-058401e20252/image\"\n",
    "prediction_key = \"587a2aff4b81410190bfa872ea17c34f\""
   ]
  },
  {
   "cell_type": "markdown",
   "metadata": {},
   "source": [
    "Here, we're specifying which image to use for prediction; open the local image file; posting to our custom vision service; and finally process the response as a JSON object.  Finally, we use the Python \"max\" function to find the  dictionary record with the highest probability"
   ]
  },
  {
   "cell_type": "code",
   "execution_count": 75,
   "metadata": {},
   "outputs": [
    {
     "name": "stdout",
     "output_type": "stream",
     "text": [
      "I think this digit is a 8 with 98.49% confidence.\n"
     ]
    }
   ],
   "source": [
    "path_to_image = \"/tmp/VuLeAMLExperimentation/VuLeAMLExpWorkspace/aml-deep-learning-mnist/mnist_png/testing/8/226.png\"\n",
    "\n",
    "image_file = open(path_to_image, 'rb').read()\n",
    "response = requests.post(url=service_url,\n",
    "                         headers={'Prediction-Key': prediction_key,\n",
    "                                  'Content-Type': 'application/octet-stream'\n",
    "                                 },\n",
    "                         data=image_file)\n",
    "predictions = json.loads(response.text)[\"Predictions\"]\n",
    "\n",
    "best_prediction = max(predictions, key=lambda p: p['Probability'])\n",
    "print('I think this digit is a {0} with {1:.2%} confidence.'.format(best_prediction['Tag'], best_prediction['Probability']))\n"
   ]
  },
  {
   "cell_type": "code",
   "execution_count": null,
   "metadata": {},
   "outputs": [],
   "source": []
  }
 ],
 "metadata": {
  "kernelspec": {
   "display_name": "aml-deep-learning-mnist local",
   "language": "python",
   "name": "aml-deep-learning-mnist_local"
  },
  "language_info": {
   "codemirror_mode": {
    "name": "ipython",
    "version": 3
   },
   "file_extension": ".py",
   "mimetype": "text/x-python",
   "name": "python",
   "nbconvert_exporter": "python",
   "pygments_lexer": "ipython3",
   "version": "3.5.2"
  }
 },
 "nbformat": 4,
 "nbformat_minor": 2
}
