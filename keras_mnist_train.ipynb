{
 "cells": [
  {
   "cell_type": "code",
   "execution_count": 8,
   "metadata": {},
   "outputs": [],
   "source": [
    "import os\n",
    "import json\n",
    "import requests\n",
    "import numpy as np\n",
    "np.set_printoptions(threshold=np.nan)\n",
    "import cv2"
   ]
  },
  {
   "cell_type": "markdown",
   "metadata": {},
   "source": [
    "Using Shared Folder\n",
    "===========\n",
    "You can specify a directory on the host computer that can be accessed within your script.  This is good when:\n",
    "* Your script needs to load data from local files, such as csv files or a directory of text or image files, as training or test data. \n",
    "* Your script processes raw data, and writes out intermediate results, such as featurized training data from text/image files, that are used in a subsequent training run. \n",
    "* Your script spits out a model, and your subsequent scoring script needs to pick up the model and use it for evaluation. \n",
    "\n",
    "To enable this feature, you'll need to specify the following in each of your {target}.compute file:\n",
    "* sharedVolumes: true\n",
    "* nativeSharedDirectory: \"/any_directory/on/the/host/computer/\"\n"
   ]
  },
  {
   "cell_type": "code",
   "execution_count": 11,
   "metadata": {},
   "outputs": [
    {
     "data": {
      "text/plain": [
       "'C:\\\\tmp\\\\VuLeAMLExperimentation\\\\VuLeAMLExpWorkspace\\\\aml-deep-learning-mnist'"
      ]
     },
     "execution_count": 11,
     "metadata": {},
     "output_type": "execute_result"
    }
   ],
   "source": [
    "# this folder maps to the nativeSharedDirectory variable specified \n",
    "# in the {target}.compute aml_config file\n",
    "base_directory = os.environ['AZUREML_NATIVE_SHARE_DIRECTORY']\n",
    "os.chdir(base_directory)\n",
    "os.getcwd()"
   ]
  },
  {
   "cell_type": "code",
   "execution_count": 12,
   "metadata": {},
   "outputs": [
    {
     "name": "stdout",
     "output_type": "stream",
     "text": [
      " Volume in drive C is OSDisk\n",
      " Volume Serial Number is 58ED-863C\n",
      "\n",
      " Directory of C:\\tmp\\VuLeAMLExperimentation\\VuLeAMLExpWorkspace\\aml-deep-learning-mnist\n",
      "\n",
      "10/14/2017  11:03 PM    <DIR>          .\n",
      "10/14/2017  11:03 PM    <DIR>          ..\n",
      "10/03/2017  05:27 PM    <DIR>          mnist_png\n",
      "               0 File(s)              0 bytes\n",
      "               3 Dir(s)  206,457,700,352 bytes free\n"
     ]
    }
   ],
   "source": [
    "%ls"
   ]
  },
  {
   "cell_type": "code",
   "execution_count": 23,
   "metadata": {},
   "outputs": [],
   "source": [
    "path_to_image = base_directory + \"mnist_png/testing/7/0.png\"\n",
    "img_width, img_height = 28, 28"
   ]
  },
  {
   "cell_type": "code",
   "execution_count": 24,
   "metadata": {},
   "outputs": [],
   "source": [
    "img = cv2.imread(path_to_image)\n",
    "#img = cv2.resize(img, (img_width, img_height)"
   ]
  },
  {
   "cell_type": "code",
   "execution_count": 25,
   "metadata": {},
   "outputs": [
    {
     "data": {
      "text/plain": [
       "'/tmp//VuLeAMLExperimentation/VuLeAMLExpWorkspace/aml-deep-learning-mnist/mnist_png/testing/7/0.png'"
      ]
     },
     "execution_count": 25,
     "metadata": {},
     "output_type": "execute_result"
    }
   ],
   "source": [
    "path_to_image"
   ]
  },
  {
   "cell_type": "code",
   "execution_count": null,
   "metadata": {},
   "outputs": [],
   "source": []
  }
 ],
 "metadata": {
  "kernelspec": {
   "display_name": "aml-deep-learning-mnist local",
   "language": "python",
   "name": "aml-deep-learning-mnist_local"
  },
  "language_info": {
   "codemirror_mode": {
    "name": "ipython",
    "version": 3
   },
   "file_extension": ".py",
   "mimetype": "text/x-python",
   "name": "python",
   "nbconvert_exporter": "python",
   "pygments_lexer": "ipython3",
   "version": "3.5.2"
  }
 },
 "nbformat": 4,
 "nbformat_minor": 2
}
